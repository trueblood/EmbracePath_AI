{
 "cells": [
  {
   "cell_type": "code",
   "execution_count": 1,
   "id": "d29fe896-dd46-4f53-92e8-b6ddb52df09a",
   "metadata": {
    "tags": []
   },
   "outputs": [
    {
     "name": "stderr",
     "output_type": "stream",
     "text": [
      "2024-08-03 03:23:27.719219: I tensorflow/core/platform/cpu_feature_guard.cc:193] This TensorFlow binary is optimized with oneAPI Deep Neural Network Library (oneDNN) to use the following CPU instructions in performance-critical operations:  AVX2 FMA\n",
      "To enable them in other operations, rebuild TensorFlow with the appropriate compiler flags.\n",
      "2024-08-03 03:23:28.990131: W tensorflow/compiler/xla/stream_executor/platform/default/dso_loader.cc:64] Could not load dynamic library 'libnvinfer.so.7'; dlerror: libnvinfer.so.7: cannot open shared object file: No such file or directory; LD_LIBRARY_PATH: /usr/local/cuda/lib64:/usr/local/nccl2/lib:/usr/local/cuda/extras/CUPTI/lib64\n",
      "2024-08-03 03:23:28.990329: W tensorflow/compiler/xla/stream_executor/platform/default/dso_loader.cc:64] Could not load dynamic library 'libnvinfer_plugin.so.7'; dlerror: libnvinfer_plugin.so.7: cannot open shared object file: No such file or directory; LD_LIBRARY_PATH: /usr/local/cuda/lib64:/usr/local/nccl2/lib:/usr/local/cuda/extras/CUPTI/lib64\n",
      "2024-08-03 03:23:28.990344: W tensorflow/compiler/tf2tensorrt/utils/py_utils.cc:38] TF-TRT Warning: Cannot dlopen some TensorRT libraries. If you would like to use Nvidia GPU with TensorRT, please make sure the missing libraries mentioned above are installed properly.\n"
     ]
    },
    {
     "name": "stdout",
     "output_type": "stream",
     "text": [
      "WARNING:tensorflow:From /opt/conda/lib/python3.10/site-packages/tensorflow/python/autograph/pyct/static_analysis/liveness.py:83: Analyzer.lamba_check (from tensorflow.python.autograph.pyct.static_analysis.liveness) is deprecated and will be removed after 2023-09-23.\n",
      "Instructions for updating:\n",
      "Lambda fuctions will be no more assumed to be used in the statement where they are used, or at least in the same block. https://github.com/tensorflow/tensorflow/issues/56089\n"
     ]
    },
    {
     "name": "stderr",
     "output_type": "stream",
     "text": [
      "2024-08-03 03:23:30.611106: W tensorflow/compiler/xla/stream_executor/platform/default/dso_loader.cc:64] Could not load dynamic library 'libcuda.so.1'; dlerror: libcuda.so.1: cannot open shared object file: No such file or directory; LD_LIBRARY_PATH: /usr/local/cuda/lib64:/usr/local/nccl2/lib:/usr/local/cuda/extras/CUPTI/lib64\n",
      "2024-08-03 03:23:30.611157: W tensorflow/compiler/xla/stream_executor/cuda/cuda_driver.cc:265] failed call to cuInit: UNKNOWN ERROR (303)\n",
      "2024-08-03 03:23:30.611192: I tensorflow/compiler/xla/stream_executor/cuda/cuda_diagnostics.cc:156] kernel driver does not appear to be running on this host (google-gemini-api): /proc/driver/nvidia/version does not exist\n",
      "2024-08-03 03:23:30.611622: I tensorflow/core/platform/cpu_feature_guard.cc:193] This TensorFlow binary is optimized with oneAPI Deep Neural Network Library (oneDNN) to use the following CPU instructions in performance-critical operations:  AVX2 FMA\n",
      "To enable them in other operations, rebuild TensorFlow with the appropriate compiler flags.\n"
     ]
    },
    {
     "name": "stdout",
     "output_type": "stream",
     "text": [
      "Epoch 1/10\n",
      "     11/Unknown - 29s 2s/step - loss: 0.9414 - accuracy: 0.9205"
     ]
    },
    {
     "name": "stderr",
     "output_type": "stream",
     "text": [
      "\n",
      "KeyboardInterrupt\n",
      "\n"
     ]
    }
   ],
   "source": [
    "import pandas as pd\n",
    "import numpy as np\n",
    "import tensorflow as tf\n",
    "from tensorflow.keras import layers, models\n",
    "from sklearn.preprocessing import LabelEncoder\n",
    "from tensorflow.keras.utils import to_categorical\n",
    "\n",
    "# Load CSV data\n",
    "csv_path = 'gs://storage_for_all/DataSets/FacialEmotionRecognitionImageDataset_v1/data.csv'\n",
    "df = pd.read_csv(csv_path)\n",
    "df = df.drop(df.columns[0], axis=1)\n",
    "\n",
    "df = df.loc[:35]# Adjust this part to ensure correct path handling:\n",
    "\n",
    "# Adjust paths\n",
    "df['path'] = df['path'].apply(lambda x: f\"gs://storage_for_all/DataSets/FacialEmotionRecognitionImageDataset_v1/dataset/{x.split('/')[-2]}/{x.split('/')[-1]}\")\n",
    "\n",
    "# Label encoding\n",
    "label_encoder = LabelEncoder()\n",
    "integer_encoded = label_encoder.fit_transform(df['label'])\n",
    "one_hot_encoded_labels = to_categorical(integer_encoded)\n",
    "\n",
    "# Dataset preparation function\n",
    "def load_image(file_path, label):\n",
    "    \"\"\"Load and preprocess images from file paths.\"\"\"\n",
    "    try:\n",
    "        image_data = tf.io.read_file(file_path)\n",
    "        image = tf.image.decode_jpeg(image_data, channels=3)\n",
    "        image = tf.image.resize(image, [224, 224])  # Resize as needed\n",
    "        return image, label\n",
    "    except tf.errors.NotFoundError:\n",
    "        print(f\"Failed to load image at: {file_path}\")\n",
    "        return None, label  # Handle missing files gracefully\n",
    "\n",
    "# Create TensorFlow datasets\n",
    "full_dataset = tf.data.Dataset.from_tensor_slices((df['path'].tolist(), one_hot_encoded_labels))\n",
    "full_dataset = full_dataset.map(load_image, num_parallel_calls=tf.data.experimental.AUTOTUNE)\n",
    "full_dataset = full_dataset.filter(lambda x, y: x is not None and y is not None)\n",
    "full_dataset = full_dataset.batch(32).prefetch(tf.data.experimental.AUTOTUNE)\n",
    "\n",
    "# Split dataset into training and validation\n",
    "dataset_size = len(df)\n",
    "train_size = int(0.8 * dataset_size)\n",
    "val_size = dataset_size - train_size\n",
    "\n",
    "train_dataset = full_dataset.take(train_size)\n",
    "val_dataset = full_dataset.skip(train_size).take(val_size)\n",
    "\n",
    "# Model definition\n",
    "def tf_model(num_classes):\n",
    "    model = models.Sequential([\n",
    "        layers.Conv2D(32, (3, 3), padding='same', input_shape=(224, 224, 3)),\n",
    "        layers.LeakyReLU(alpha=0.1),\n",
    "        layers.MaxPooling2D((2, 2)),\n",
    "        layers.Conv2D(64, (3, 3), padding='same'),\n",
    "        layers.LeakyReLU(alpha=0.1),\n",
    "        layers.MaxPooling2D((2, 2)),\n",
    "        layers.Conv2D(128, (3, 3), padding='same'),\n",
    "        layers.LeakyReLU(alpha=0.1),\n",
    "        layers.MaxPooling2D((2, 2)),\n",
    "        layers.Flatten(),\n",
    "        layers.Dense(128),\n",
    "        layers.LeakyReLU(alpha=0.1),\n",
    "        layers.Dense(num_classes, activation='softmax')\n",
    "    ])\n",
    "    model.compile(optimizer='adam', loss='categorical_crossentropy', metrics=['accuracy'])\n",
    "    return model\n",
    "\n",
    "num_classes = len(label_encoder.classes_)  # Number of unique classes\n",
    "model = tf_model(num_classes)\n",
    "\n",
    "# Model training\n",
    "history = model.fit(\n",
    "    train_dataset,\n",
    "    epochs=10,\n",
    "    validation_data=val_dataset,\n",
    "    use_multiprocessing=False,\n",
    "    workers=1\n",
    ")\n",
    "\n",
    "# Save the model\n",
    "model_save_path = \"/models/emotion_detection_cnn_v1\"\n",
    "model.save(model_save_path)\n",
    "\n",
    "# Evaluate the model\n",
    "test_loss, test_acc = model.evaluate(val_dataset)\n",
    "print(\"Test accuracy:\", test_acc)\n",
    "\n",
    "# Prediction function\n",
    "def predict_emotion(image_path):\n",
    "    img, _ = load_image(image_path, None)\n",
    "    img = tf.expand_dims(img, 0)  # Make batch of 1\n",
    "    predictions = model.predict(img)\n",
    "    predicted_class = tf.argmax(predictions[0]).numpy()\n",
    "    return label_encoder.inverse_transform([predicted_class])[0]  # Assuming labels are ordered\n",
    "\n",
    "# Example usage\n",
    "predicted_emotion = predict_emotion('gs://storage_for_all/DataSets/FacialEmotionRecognitionImageDataset_v1/dataset/Surprise/1bd930d6a1c717c11be33db74823f661cb53f86cbba1d3d1f336cdf9~12fffff.jpg')\n",
    "print(\"Predicted Emotion:\", predicted_emotion)\n"
   ]
  },
  {
   "cell_type": "code",
   "execution_count": null,
   "id": "61cdc167-62d8-4d81-bcbe-5ad76ea189aa",
   "metadata": {},
   "outputs": [],
   "source": []
  }
 ],
 "metadata": {
  "environment": {
   "kernel": "",
   "name": "tf2-cpu.2-11.m122",
   "type": "gcloud",
   "uri": "us-docker.pkg.dev/deeplearning-platform-release/gcr.io/tf2-cpu.2-11:m122"
  },
  "kernelspec": {
   "display_name": "",
   "name": ""
  },
  "language_info": {
   "name": ""
  }
 },
 "nbformat": 4,
 "nbformat_minor": 5
}
